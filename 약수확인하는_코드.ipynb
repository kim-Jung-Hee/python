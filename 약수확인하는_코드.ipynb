{
  "nbformat": 4,
  "nbformat_minor": 0,
  "metadata": {
    "colab": {
      "provenance": [],
      "collapsed_sections": [],
      "authorship_tag": "ABX9TyNHeDUHb+780wvKV9iux4gP",
      "include_colab_link": true
    },
    "kernelspec": {
      "name": "python3",
      "display_name": "Python 3"
    },
    "language_info": {
      "name": "python"
    }
  },
  "cells": [
    {
      "cell_type": "markdown",
      "metadata": {
        "id": "view-in-github",
        "colab_type": "text"
      },
      "source": [
        "<a href=\"https://colab.research.google.com/github/kim-Jung-Hee/python/blob/main/%EC%95%BD%EC%88%98%ED%99%95%EC%9D%B8%ED%95%98%EB%8A%94_%EC%BD%94%EB%93%9C.ipynb\" target=\"_parent\"><img src=\"https://colab.research.google.com/assets/colab-badge.svg\" alt=\"Open In Colab\"/></a>"
      ]
    },
    {
      "cell_type": "code",
      "execution_count": null,
      "metadata": {
        "colab": {
          "base_uri": "https://localhost:8080/"
        },
        "id": "Oswm988Gh6yU",
        "outputId": "5291ccc0-b2ae-486a-ff3d-be09d92954b0"
      },
      "outputs": [
        {
          "output_type": "execute_result",
          "data": {
            "text/plain": [
              "0"
            ]
          },
          "metadata": {},
          "execution_count": 20
        }
      ],
      "source": [
        "# 약수 확인하는 함수 작성하기\n",
        "\n",
        "def f(a,b):\n",
        "  if b%a==0:\n",
        "    t=1\n",
        "  else:\n",
        "    t=0\n",
        "  return t\n",
        "\n",
        "\n",
        "f(3,5)"
      ]
    },
    {
      "cell_type": "code",
      "source": [
        "# 202200906 김정희 과제 1번\n",
        "def f(a,b):\n",
        "  if b%a==0:\n",
        "    t=1\n",
        "  else:\n",
        "    t=0\n",
        "  return t\n",
        "\n",
        "num1=int(input('자연수 x를 입력하세요:'))\n",
        "num2=int(input('자연수 y를 입력하세요:'))\n",
        "\n",
        "if num1==num2:\n",
        "  print('x와 y는 같은 숫자이다.')\n",
        "elif f(num1,num2)==1:\n",
        "  print('x는 y의 약수이지만, y가 아니다.')\n",
        "elif f(num2,num1)==1:\n",
        "  print('y는 x의 약수이지만, x가 아니다.')\n",
        "elif f(num1,num2)==0 and f(num2,num1)==0:\n",
        "  print('x와 y는 서로의 약수가 아니다.')\n",
        "\n"
      ],
      "metadata": {
        "colab": {
          "base_uri": "https://localhost:8080/"
        },
        "id": "K08kI6NDk2Pl",
        "outputId": "17011348-0462-4d12-b313-bc7a5b729087"
      },
      "execution_count": null,
      "outputs": [
        {
          "output_type": "stream",
          "name": "stdout",
          "text": [
            "자연수 x를 입력하세요:3\n",
            "자연수 y를 입력하세요:5\n",
            "x와 y는 서로의 약수가 아니다.\n"
          ]
        }
      ]
    }
  ]
}